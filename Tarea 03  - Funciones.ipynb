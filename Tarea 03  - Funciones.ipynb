{
 "cells": [
  {
   "cell_type": "markdown",
   "metadata": {},
   "source": [
    "# Tarea 03 definicion de funciones\n"
   ]
  },
  {
   "cell_type": "markdown",
   "metadata": {},
   "source": [
    "## Funciones en Pyton\n",
    "\n",
    "La funciones son bloques de codigo ordenado reusables que pueden realizar una tarea ya sea recibiendo varios parametros y devolviendo algun valor ."
   ]
  },
  {
   "cell_type": "code",
   "execution_count": 15,
   "metadata": {},
   "outputs": [
    {
     "name": "stdout",
     "output_type": "stream",
     "text": [
      "Hola planeta Tierra saludos desde el Espacio exterior\n",
      "Hola planeta Jupiter saludos desde el Espacio exterior\n",
      "Hola planeta Saturno saludos desde el Espacio exterior\n"
     ]
    }
   ],
   "source": [
    "#Esta funcion devuelve un saludo mandando un nombre de planeta \n",
    "def Planeta(pla):\n",
    "    print(\"Hola planeta\" , pla, \"saludos desde el Espacio exterior\")\n",
    "    \n",
    "    return\n",
    "\n",
    "Planeta(\"Tierra\")\n",
    "Planeta(\"Jupiter\")\n",
    "Planeta(\"Saturno\")"
   ]
  },
  {
   "cell_type": "markdown",
   "metadata": {},
   "source": [
    "## Parametros (argumentos) posicionales\n",
    "\n",
    "Esto es cuando los argumentos que se envian en una funcion son asignados en la funcion en la misma posicion con que se envian \n",
    "\n"
   ]
  },
  {
   "cell_type": "code",
   "execution_count": 29,
   "metadata": {
    "scrolled": true
   },
   "outputs": [
    {
     "name": "stdout",
     "output_type": "stream",
     "text": [
      "Hola Viajero espacial Tesla\n",
      "Tu pais natal en la tierra es: Croacia\n",
      "Tu edad asignada es 66\n",
      "Bienvenido a la Tierra\n"
     ]
    }
   ],
   "source": [
    "#aqui sabemos que el primer parametro es nombre , el 2do edad, y el 3ro nacionalidad \n",
    "#pero no se usa en el mismo orden, primero se usa nacion y luego edad,\n",
    "# pero fue asignado como se envio en la llamada a la funcion\n",
    "def DatosPersonales (name,age,nacion):\n",
    "    print (\"Hola Viajero espacial\", name)\n",
    "    print(\"Tu pais natal en la tierra es:\",nacion)\n",
    "    print (\"Tu edad asignada es\", age)\n",
    "    print (\"Bienvenido a la Tierra\")\n",
    "    \n",
    "    \n",
    "DatosPersonales(\"Tesla\",66,\"Croacia\")\n",
    "\n"
   ]
  },
  {
   "cell_type": "markdown",
   "metadata": {},
   "source": [
    "## Parametros Nombrados\n",
    "\n",
    "Los parametros nombrados nos permiten asignar los valore a los parametros de la funcion, permitiendo poder llamar a la funcion sin importar el orden  de los parametros"
   ]
  },
  {
   "cell_type": "code",
   "execution_count": 36,
   "metadata": {},
   "outputs": [
    {
     "name": "stdout",
     "output_type": "stream",
     "text": [
      "Hola Viajero espacial Nikola Tesla\n",
      "Tu pais natal en la tierra es: Serbia\n",
      "Tu edad asignada es 120\n",
      "Bienvenido a la Tierra viajero del universo 6836\n",
      "\n",
      "aqui volvemos a llamar a la misma funcion con los parametros en otro orden:\n",
      "\n",
      "\n",
      "Hola Viajero espacial Leonardo Davinci\n",
      "Tu pais natal en la tierra es: Serbia\n",
      "Tu edad asignada es 70\n",
      "Bienvenido a la Tierra viajero del universo 126\n"
     ]
    }
   ],
   "source": [
    "#aqui tenemos una funcion con diferentes parametros que es llamada con los parametros en diferente orden e igual funciona\n",
    "\n",
    "\n",
    "def DatosPersonales (name,age,nacion,universo):\n",
    "    print (\"Hola Viajero espacial\", name)\n",
    "    print(\"Tu pais natal en la tierra es:\",nacion)\n",
    "    print (\"Tu edad asignada es\", age)\n",
    "    print (\"Bienvenido a la Tierra viajero del universo\",universo)\n",
    "    \n",
    "    \n",
    "DatosPersonales(universo=6836,age=120,nacion=\"Serbia\",name =\"Nikola Tesla\")\n",
    "\n",
    "print ()\n",
    "print (\"aqui volvemos a llamar a la misma funcion con los parametros en otro orden:\")\n",
    "print ()\n",
    "print ()\n",
    "\n",
    "DatosPersonales(nacion=\"Serbia\",universo=126,name =\"Leonardo Davinci\",age=70)\n"
   ]
  },
  {
   "cell_type": "markdown",
   "metadata": {},
   "source": [
    "## Retorno de multples valores\n",
    "\n",
    "Cuando se utiliza una funcion se puede devolver como resultado de una funcion varios valores usando:\n",
    "    - Objetos\n",
    "    -Listas\n",
    "    -Tuplas\n",
    "    -Diccionario"
   ]
  },
  {
   "cell_type": "code",
   "execution_count": 47,
   "metadata": {},
   "outputs": [
    {
     "name": "stdout",
     "output_type": "stream",
     "text": [
      "[14, 25, 70]\n"
     ]
    }
   ],
   "source": [
    "#Esta funcion toma el valor enviado y lo multplica por 2, 5, y 10, y o guarda en una lista\n",
    "\n",
    "def multiplos(x):\n",
    "    x2=x*2\n",
    "    x5=5*5\n",
    "    x10=x*10\n",
    "    return [x2,x5,x10];\n",
    "\n",
    "Y = multiplos(7)\n",
    "print(Y)"
   ]
  },
  {
   "cell_type": "markdown",
   "metadata": {},
   "source": [
    "## Funciones como objetes y parametros de otras funciones\n",
    "\n",
    "Son definiciones de funciones ya establecidas que nos permiten hacer uso de funciones mandandolas como parametros, permitiendonos usarlas como parametros. \n",
    "\n"
   ]
  },
  {
   "cell_type": "code",
   "execution_count": 53,
   "metadata": {},
   "outputs": [
    {
     "name": "stdout",
     "output_type": "stream",
     "text": [
      "hola, el resultado es  16\n"
     ]
    }
   ],
   "source": [
    "#esta es una fucnion que toma el primer parametro, lo eleva al cubo y lo multiplica por 2, para volverlo par\n",
    "def cubopar(x,y):\n",
    "    r=x*x*x*2\n",
    "    return r\n",
    "\n",
    "def objetotest(funcion,a,b):\n",
    "    return funcion(a,b)\n",
    "\n",
    "test=objetotest(cubopar,2,3)\n",
    "print(\"hola, el resultado es \",test)\n"
   ]
  },
  {
   "cell_type": "markdown",
   "metadata": {},
   "source": [
    "## Funciones anonimas o lamda\n",
    "Son funciones que no poseen nombre, se definene en la misma linea donde se ejecuta la funcion, estas solo devuelven un solo valor."
   ]
  },
  {
   "cell_type": "code",
   "execution_count": 55,
   "metadata": {},
   "outputs": [
    {
     "name": "stdout",
     "output_type": "stream",
     "text": [
      "el resultado a la quinta es: 1024\n"
     ]
    }
   ],
   "source": [
    "alaquinta= lambda x:(x*x*x*x*x)\n",
    "print (\"el resultado a la quinta es:\",alaquinta(4))"
   ]
  },
  {
   "cell_type": "code",
   "execution_count": null,
   "metadata": {},
   "outputs": [],
   "source": []
  },
  {
   "cell_type": "code",
   "execution_count": null,
   "metadata": {},
   "outputs": [],
   "source": []
  },
  {
   "cell_type": "code",
   "execution_count": null,
   "metadata": {},
   "outputs": [],
   "source": []
  }
 ],
 "metadata": {
  "kernelspec": {
   "display_name": "Python 3",
   "language": "python",
   "name": "python3"
  },
  "language_info": {
   "codemirror_mode": {
    "name": "ipython",
    "version": 3
   },
   "file_extension": ".py",
   "mimetype": "text/x-python",
   "name": "python",
   "nbconvert_exporter": "python",
   "pygments_lexer": "ipython3",
   "version": "3.8.5"
  }
 },
 "nbformat": 4,
 "nbformat_minor": 4
}
